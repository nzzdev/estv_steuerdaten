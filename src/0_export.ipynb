{
 "cells": [
  {
   "cell_type": "markdown",
   "metadata": {},
   "source": [
    "# Export from Steuerrechner\n",
    "This script grabs the files and stores them. No analytics or transformation.\n",
    "\n",
    "In `utils.py` werden die verschiedenen Payload-Möglichkeiten gespeichert (in eigenes file ausgelagert, da diese bei der Analyse wieder gebraucht werden). Wie man zu diesen Werten kommt:  \n",
    "\n",
    "**MassExportModel (\"Steuersubjekt)**  \n",
    "Exported the ID's and values from the website via chrome console and this script (cleaned by hand):\n",
    "```javascript\n",
    "list = document.querySelectorAll('.income-wealth-tax-burden__mass-export-model-select option')\n",
    "s = ''\n",
    "list.forEach(e => s += `    ${e.value}: \"${e.text}\",\\n`)\n",
    "console.log(`{\\n${s}\\n}`)\n",
    "```\n",
    "**Confession**  \n",
    "By google inspector and by hand (only 4)"
   ]
  },
  {
   "cell_type": "code",
   "execution_count": null,
   "metadata": {},
   "outputs": [],
   "source": [
    "import requests\n",
    "from pathlib import Path\n",
    "from fake_useragent import UserAgent\n",
    "import json\n",
    "import hashlib\n",
    "\n",
    "# Edit if necessary\n",
    "import utils\n",
    "\n"
   ]
  },
  {
   "cell_type": "code",
   "execution_count": null,
   "metadata": {},
   "outputs": [],
   "source": [
    "# Consts\n",
    "export_folder = Path('../export/dumps/')\n"
   ]
  },
  {
   "cell_type": "markdown",
   "metadata": {},
   "source": [
    "## Prepare Requests"
   ]
  },
  {
   "cell_type": "code",
   "execution_count": null,
   "metadata": {},
   "outputs": [],
   "source": [
    "# Create Fake user Agent\n",
    "ua = UserAgent()\n",
    "\n",
    "# Where to grab the data\n",
    "url = 'https://swisstaxcalculator.estv.admin.ch/delegate/ost-integration/v1/export/income-tax-values/JSON/DE'\n",
    "\n",
    "headers = {\n",
    "    'Accept': 'application/json, text/plain, */*',\n",
    "    'Accept-Encoding': 'gzip, deflate, br',\n",
    "    'Content-Type': 'application/json;charset=UTF-8',\n",
    "    'Host': 'swisstaxcalculator.estv.admin.ch',\n",
    "    'Origin': 'https://swisstaxcalculator.estv.admin.ch'\n",
    "}\n",
    "\n",
    "payload = {\n",
    "    \"massExportModelId\": 2, # This will be updated\n",
    "    \"belastungsVergleich\": 1,\n",
    "    \"taxGroup\": 99, # 99: all municipalities\n",
    "    \"confession\": 5, # This will be updated\n",
    "    \"incomes\": [15000,20000,30000,25000,35000,40000,90000,80000,70000,60000,50000,45000,100000,125000,150000,175000,200000,250000,5000000,1000000,750000,500000,400000,300000,10000000,50000000,100000000],\n",
    "    \"fortunes\": [],\n",
    "    \"klasse\": 1,\n",
    "    \"years\": [2010],#for taxGroup = 99, only one year at once\n",
    "    \"output\": 1,\n",
    "    \"considerMaximumExposureLimit\": False,\n",
    "    \"investmentIncome\": None\n",
    "}"
   ]
  },
  {
   "cell_type": "markdown",
   "metadata": {},
   "source": [
    "## The beef: Loop everything\n",
    "Do it fail safe"
   ]
  },
  {
   "cell_type": "code",
   "execution_count": null,
   "metadata": {},
   "outputs": [],
   "source": [
    "# Loop every massExportModel with every confession\n",
    "\n",
    "# Loop each \"Steuersubjekt\"\n",
    "for model in utils.massExportModel:\n",
    "\n",
    "    # Loop each \"Konfession\"\n",
    "    for confession in utils.confessions:\n",
    "        \n",
    "        # Update Payload\n",
    "        payload['massExportModelId'] = model\n",
    "        payload['confession'] = confession\n",
    "\n",
    "        # Update User-Agent in Header for every request (trick the server :) )\n",
    "        headers['User-Agent'] = ua.random\n",
    "\n",
    "        # Create Hash from payload\n",
    "        hash = hashlib.sha1(str(payload).encode('utf-8')).hexdigest()\n",
    "\n",
    "        filename = export_folder / Path('%s.json' % hash)\n",
    "\n",
    "        # Check if file already exists. Is so, jump to next one\n",
    "        if filename.exists():\n",
    "            continue\n",
    "        \n",
    "        # FIRE!!!!!!\n",
    "        r = requests.post(url, data=json.dumps(payload), headers=headers)\n",
    "\n",
    "        # convert Requests to json. This will fail if something gone wrong - and thats good\n",
    "        data = json.loads(r.text)\n",
    "\n",
    "        # store\n",
    "        with open(filename, 'w', encoding='utf-8') as f:\n",
    "            json.dump(data, f, ensure_ascii=False)\n",
    "\n",
    "print(\"Finito 🍩\")\n"
   ]
  },
  {
   "cell_type": "markdown",
   "metadata": {},
   "source": [
    "## Only for confession = 5 (no confession): Without Kirchensteuer"
   ]
  },
  {
   "cell_type": "code",
   "execution_count": null,
   "metadata": {},
   "outputs": [],
   "source": [
    "# Loop each \"Steuersubjekt\" \n",
    "\n",
    "for model in utils.massExportModel:\n",
    "     \n",
    "    # Update Payload\n",
    "    payload['massExportModelId'] = model\n",
    "    payload['confession'] = 5\n",
    "\n",
    "    # Update User-Agent in Header for every request (trick the server :) )\n",
    "    headers['User-Agent'] = ua.random\n",
    "\n",
    "    # Create Hash from payload\n",
    "    hash = hashlib.sha1(str(payload).encode('utf-8')).hexdigest()\n",
    "\n",
    "    filename = export_folder / Path('%s.json' % hash)\n",
    "\n",
    "    # Check if file already exists. Is so, jump to next one\n",
    "    if filename.exists():\n",
    "        continue\n",
    "\n",
    "    # FIRE!!!!!!\n",
    "    r = requests.post(url, data=json.dumps(payload), headers=headers)\n",
    "\n",
    "    # convert Requests to json. This will fail if something gone wrong - and thats good\n",
    "    data = json.loads(r.text)\n",
    "\n",
    "    # store\n",
    "    with open(filename, 'w', encoding='utf-8') as f:\n",
    "        json.dump(data, f, ensure_ascii=False)\n",
    "\n",
    "print(\"Finito 🍩\")\n"
   ]
  },
  {
   "cell_type": "code",
   "execution_count": null,
   "metadata": {},
   "outputs": [],
   "source": []
  }
 ],
 "metadata": {
  "interpreter": {
   "hash": "b266c60a2520186558d1ac98874a9e8f3735bff230b47dfa566611d2fd96ea6d"
  },
  "kernelspec": {
   "display_name": "Python 3",
   "language": "python",
   "name": "python3"
  },
  "language_info": {
   "codemirror_mode": {
    "name": "ipython",
    "version": 3
   },
   "file_extension": ".py",
   "mimetype": "text/x-python",
   "name": "python",
   "nbconvert_exporter": "python",
   "pygments_lexer": "ipython3",
   "version": "3.9.2"
  }
 },
 "nbformat": 4,
 "nbformat_minor": 2
}
